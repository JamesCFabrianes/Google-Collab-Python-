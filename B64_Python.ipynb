{
  "nbformat": 4,
  "nbformat_minor": 0,
  "metadata": {
    "colab": {
      "provenance": [],
      "include_colab_link": true
    },
    "kernelspec": {
      "name": "python3",
      "display_name": "Python 3"
    },
    "language_info": {
      "name": "python"
    }
  },
  "cells": [
    {
      "cell_type": "markdown",
      "metadata": {
        "id": "view-in-github",
        "colab_type": "text"
      },
      "source": [
        "<a href=\"https://colab.research.google.com/github/JamesCFabrianes/Google-Collab-Python-/blob/main/B64_Python.ipynb\" target=\"_parent\"><img src=\"https://colab.research.google.com/assets/colab-badge.svg\" alt=\"Open In Colab\"/></a>"
      ]
    },
    {
      "cell_type": "code",
      "execution_count": null,
      "metadata": {
        "colab": {
          "base_uri": "https://localhost:8080/"
        },
        "id": "Um_9DASv_eON",
        "outputId": "4ea04906-79f9-42fc-e1b9-968b7b3b2843"
      },
      "outputs": [
        {
          "output_type": "stream",
          "name": "stdout",
          "text": [
            "Pertemuan 2 Data Science\n"
          ]
        }
      ],
      "source": [
        "print(\"Pertemuan 2 Data Science\")"
      ]
    },
    {
      "cell_type": "code",
      "source": [
        "jumlah_pertemuan = 2\n",
        "print(\"Hari ini memasuki pertemuan {}\".format(jumlah_pertemuan))"
      ],
      "metadata": {
        "colab": {
          "base_uri": "https://localhost:8080/"
        },
        "id": "ZaRNqYWM_sSa",
        "outputId": "75358496-d777-4b7a-a9a8-73fefef4efa3"
      },
      "execution_count": null,
      "outputs": [
        {
          "output_type": "stream",
          "name": "stdout",
          "text": [
            "Hari ini memasuki pertemuan 2\n"
          ]
        }
      ]
    },
    {
      "cell_type": "code",
      "source": [
        "nilai = 98 # Int / Bilangan Bulat\n",
        "kelas = \"Data Science\" # String / tulisan, lambang, angka\n",
        "suhu = 33.2 # Decimal / Float\n",
        "\n",
        "adalahPeserta = True  # Boolean / Nilai Kebenaran\n",
        "\n",
        "jumlah_saudara = \"3\" # String"
      ],
      "metadata": {
        "id": "8t61Tz2j_60d"
      },
      "execution_count": null,
      "outputs": []
    },
    {
      "cell_type": "code",
      "source": [
        "type(jumlah_saudara)"
      ],
      "metadata": {
        "colab": {
          "base_uri": "https://localhost:8080/"
        },
        "id": "bHX5sp6sAqQ0",
        "outputId": "6c55d7f0-90c6-417e-b85d-2743464b7641"
      },
      "execution_count": null,
      "outputs": [
        {
          "output_type": "execute_result",
          "data": {
            "text/plain": [
              "str"
            ]
          },
          "metadata": {},
          "execution_count": 4
        }
      ]
    },
    {
      "cell_type": "code",
      "source": [
        "nilai + 5"
      ],
      "metadata": {
        "colab": {
          "base_uri": "https://localhost:8080/"
        },
        "id": "Nx0thGcaAtQl",
        "outputId": "84c03f80-721a-446d-9238-29d1da9d34d9"
      },
      "execution_count": null,
      "outputs": [
        {
          "output_type": "execute_result",
          "data": {
            "text/plain": [
              "103"
            ]
          },
          "metadata": {},
          "execution_count": 5
        }
      ]
    },
    {
      "cell_type": "code",
      "source": [
        "# Casting Variable --> mengubah type datanya\n",
        "\n",
        "int(jumlah_saudara) + 5"
      ],
      "metadata": {
        "colab": {
          "base_uri": "https://localhost:8080/"
        },
        "id": "4UaygYifA169",
        "outputId": "3270ae5f-752a-43e5-98de-922f2cc0bf59"
      },
      "execution_count": null,
      "outputs": [
        {
          "output_type": "execute_result",
          "data": {
            "text/plain": [
              "8"
            ]
          },
          "metadata": {},
          "execution_count": 6
        }
      ]
    },
    {
      "cell_type": "code",
      "source": [
        "no_hp = \"081234567890\"\n",
        "print(no_hp)"
      ],
      "metadata": {
        "colab": {
          "base_uri": "https://localhost:8080/"
        },
        "id": "VTmHmBg0BKup",
        "outputId": "057425d5-ead9-4458-b28f-925670469a73"
      },
      "execution_count": null,
      "outputs": [
        {
          "output_type": "stream",
          "name": "stdout",
          "text": [
            "081234567890\n"
          ]
        }
      ]
    },
    {
      "cell_type": "code",
      "source": [
        "no_hp = \"0852\" + \"9876\"\n",
        "print(no_hp)"
      ],
      "metadata": {
        "colab": {
          "base_uri": "https://localhost:8080/"
        },
        "id": "9iWeuQmICFCd",
        "outputId": "96cc937d-41f7-4834-fbbe-bb90a6a71c0c"
      },
      "execution_count": null,
      "outputs": [
        {
          "output_type": "stream",
          "name": "stdout",
          "text": [
            "08529876\n"
          ]
        }
      ]
    },
    {
      "cell_type": "code",
      "source": [
        "# Aritmatika di Python\n",
        "angka1 = 24\n",
        "angka2 = 5\n",
        "\n",
        "# Penjumlahan\n",
        "print(angka1 + angka2)\n",
        "\n",
        "#Pengurangan\n",
        "print(angka1 - angka2)\n",
        "\n",
        "# Perkalian\n",
        "print(angka1 * angka2)\n",
        "\n",
        "# Pembagian (dengan desimal)\n",
        "print(angka1 / angka2)\n",
        "\n",
        "# Pembagian (secara bulat)\n",
        "print(angka1 // angka2)\n",
        "\n",
        "# Modulo / Sisa Bagi\n",
        "print(angka1 % angka2)\n",
        "\n",
        "# Perpangkatan\n",
        "print(angka1 ** angka2)"
      ],
      "metadata": {
        "colab": {
          "base_uri": "https://localhost:8080/"
        },
        "id": "Hz9yXKJsCRQi",
        "outputId": "d4574aa3-7c75-4406-8e48-d275ce032a2d"
      },
      "execution_count": null,
      "outputs": [
        {
          "output_type": "stream",
          "name": "stdout",
          "text": [
            "29\n",
            "19\n",
            "120\n",
            "4.8\n",
            "4\n",
            "4\n",
            "7962624\n"
          ]
        }
      ]
    },
    {
      "cell_type": "code",
      "source": [
        "# String\n",
        "# Char / karakter --> satu inputan dari keyboard (huruf, angka, lambang)\n",
        "\n",
        "karakter = \"F\"\n",
        "kelas = \"Data Science Class\"\n",
        "      #  0123\n",
        "\n",
        "print(kelas[5])\n",
        "\n",
        "print(kelas[5:12]) # angka awal adalah index mulai , angka terakhir adalah index berhenti 1 sebelumnya\n",
        "\n",
        "print(kelas[5:12:3])\n",
        "\n",
        "print(kelas[13:18])\n",
        "print(kelas[-5:])\n",
        "\n",
        "nama = \"Fendi Suryadinata\"\n",
        "len(nama) #Mengembalikan nilai panjang sebuah string"
      ],
      "metadata": {
        "colab": {
          "base_uri": "https://localhost:8080/"
        },
        "id": "6PJGuUrADAML",
        "outputId": "5c23fa71-f58b-471b-cc80-fda53a7bdd85"
      },
      "execution_count": null,
      "outputs": [
        {
          "output_type": "stream",
          "name": "stdout",
          "text": [
            "S\n",
            "Science\n",
            "See\n",
            "Class\n",
            "Class\n"
          ]
        },
        {
          "output_type": "execute_result",
          "data": {
            "text/plain": [
              "17"
            ]
          },
          "metadata": {},
          "execution_count": 10
        }
      ]
    },
    {
      "cell_type": "code",
      "source": [
        "# Jawaban Latihan\n",
        "\n",
        "#Pythagoras\n",
        "a = 3\n",
        "b = 4\n",
        "\n",
        "c = (a**2 + b**2) ** 0.5\n",
        "print(c)"
      ],
      "metadata": {
        "colab": {
          "base_uri": "https://localhost:8080/"
        },
        "id": "aaaQxz1FGYup",
        "outputId": "567e210b-3b36-4d37-ef9b-e4d47da27e34"
      },
      "execution_count": null,
      "outputs": [
        {
          "output_type": "stream",
          "name": "stdout",
          "text": [
            "5.0\n"
          ]
        }
      ]
    },
    {
      "cell_type": "code",
      "source": [
        "# Cylinder\n",
        "radius = 21\n",
        "tinggi = 10\n",
        "phi = 3.143\n",
        "\n",
        "# Volume\n",
        "v = phi * radius ** 2 * tinggi\n",
        "print(round(v, 2))\n",
        "\n",
        "# Luas permukaan\n",
        "lp = 2 * phi * radius ** 2 + phi * 2 * radius * tinggi\n",
        "print(round(lp,2))"
      ],
      "metadata": {
        "colab": {
          "base_uri": "https://localhost:8080/"
        },
        "id": "kLD1OKcLH5NC",
        "outputId": "fe816d53-0584-4cbc-e274-edffb9bed6d0"
      },
      "execution_count": null,
      "outputs": [
        {
          "output_type": "stream",
          "name": "stdout",
          "text": [
            "13860.63\n",
            "4092.19\n"
          ]
        }
      ]
    },
    {
      "cell_type": "markdown",
      "source": [
        "# Variable Majemuk --> Array"
      ],
      "metadata": {
        "id": "zY9bDxvMI-Vw"
      }
    },
    {
      "cell_type": "code",
      "source": [
        "minuman = [] # deklarasi sebuah list kosong\n",
        "\n",
        "minuman = [\"Hot Chocolate\", \"Hot Tea\", \"Black Coffee\", \"Mineral Water\", \"Black Coffee\"]"
      ],
      "metadata": {
        "id": "fJOlSKWtIOvq"
      },
      "execution_count": null,
      "outputs": []
    },
    {
      "cell_type": "code",
      "source": [
        "print(minuman)"
      ],
      "metadata": {
        "colab": {
          "base_uri": "https://localhost:8080/"
        },
        "id": "LqlSLMmGJkPN",
        "outputId": "5bd67b64-ef9a-4c8d-d091-2097460c553e"
      },
      "execution_count": null,
      "outputs": [
        {
          "output_type": "stream",
          "name": "stdout",
          "text": [
            "['Hot Chocolate', 'Hot Tea', 'Black Coffee', 'Mineral Water', 'Black Coffee']\n"
          ]
        }
      ]
    },
    {
      "cell_type": "code",
      "source": [
        "print(minuman[1])"
      ],
      "metadata": {
        "colab": {
          "base_uri": "https://localhost:8080/"
        },
        "id": "5tK8iHNfJmax",
        "outputId": "d9308feb-93eb-48f7-c111-2ff2ac0995fd"
      },
      "execution_count": null,
      "outputs": [
        {
          "output_type": "stream",
          "name": "stdout",
          "text": [
            "Hot Tea\n"
          ]
        }
      ]
    },
    {
      "cell_type": "code",
      "source": [
        "print(minuman.index(\"Black Coffee\"))"
      ],
      "metadata": {
        "colab": {
          "base_uri": "https://localhost:8080/"
        },
        "id": "dN1zTTiVJvzW",
        "outputId": "5f766294-7cd7-450d-d467-6daf4bb997e1"
      },
      "execution_count": null,
      "outputs": [
        {
          "output_type": "stream",
          "name": "stdout",
          "text": [
            "2\n"
          ]
        }
      ]
    },
    {
      "cell_type": "code",
      "source": [
        "# CRUD (Create, Read, Update, Delete)\n",
        "minuman[2] = \"Americano\"\n",
        "print(minuman)"
      ],
      "metadata": {
        "colab": {
          "base_uri": "https://localhost:8080/"
        },
        "id": "mWuMcnUTJ7A9",
        "outputId": "277dcd95-3511-41df-8c6c-6309f50b703b"
      },
      "execution_count": null,
      "outputs": [
        {
          "output_type": "stream",
          "name": "stdout",
          "text": [
            "['Hot Chocolate', 'Hot Tea', 'Americano', 'Mineral Water', 'Black Coffee']\n"
          ]
        }
      ]
    },
    {
      "cell_type": "code",
      "source": [
        "minuman.remove(\"Mineral Water\")\n",
        "print(minuman)"
      ],
      "metadata": {
        "colab": {
          "base_uri": "https://localhost:8080/"
        },
        "id": "nqUJjvlSLhMU",
        "outputId": "4d471564-7b12-49d1-9fe7-0cbecda71df8"
      },
      "execution_count": null,
      "outputs": [
        {
          "output_type": "stream",
          "name": "stdout",
          "text": [
            "['Hot Chocolate', 'Hot Tea', 'Americano', 'Black Coffee']\n"
          ]
        }
      ]
    },
    {
      "cell_type": "code",
      "source": [
        "# Tambahkan data di posisi paling belakang\n",
        "minuman.append(\"Lemon Tea\")\n",
        "print(minuman)"
      ],
      "metadata": {
        "colab": {
          "base_uri": "https://localhost:8080/"
        },
        "id": "c4v0Oh8rLna3",
        "outputId": "f01188d5-fe31-49ff-e432-9d4319708c5d"
      },
      "execution_count": null,
      "outputs": [
        {
          "output_type": "stream",
          "name": "stdout",
          "text": [
            "['Hot Chocolate', 'Hot Tea', 'Americano', 'Black Coffee', 'Lemon Tea']\n"
          ]
        }
      ]
    },
    {
      "cell_type": "code",
      "source": [
        "# Hapus data di posisi paling belakang\n",
        "minuman.pop()\n",
        "print(minuman)"
      ],
      "metadata": {
        "colab": {
          "base_uri": "https://localhost:8080/"
        },
        "id": "A23oouiKL127",
        "outputId": "e2c8797e-916c-4686-a81d-b8dfa814cdbf"
      },
      "execution_count": null,
      "outputs": [
        {
          "output_type": "stream",
          "name": "stdout",
          "text": [
            "['Hot Chocolate', 'Hot Tea', 'Americano', 'Black Coffee']\n"
          ]
        }
      ]
    },
    {
      "cell_type": "code",
      "source": [
        "# Multidimension List --> kiri - kanan : Kolom, atas - bawah : baris\n",
        "        # 0, 1, 2\n",
        "matrix = [[1,2,3], # 0\n",
        "          [4,5,6], # 1\n",
        "          [7,8,9]] # 2\n",
        "\n",
        "print(matrix[2][0])  # Nilai 7\n",
        "print(matrix[0][2])  # Nilai 3"
      ],
      "metadata": {
        "colab": {
          "base_uri": "https://localhost:8080/"
        },
        "id": "szIFBT7vMBVS",
        "outputId": "c882dbba-5e40-44b0-a44b-fefe698642e8"
      },
      "execution_count": null,
      "outputs": [
        {
          "output_type": "stream",
          "name": "stdout",
          "text": [
            "7\n",
            "3\n"
          ]
        }
      ]
    },
    {
      "cell_type": "code",
      "source": [
        "### Misalkan kita punya variable detik : 610\n",
        "### Buatlah sebuah program sederhana yang menkonversi detik menjadi format menit:detik\n",
        "\n",
        "### 10:10\n",
        "\n",
        "detik = 1800\n",
        "menit = detik // 60\n",
        "sisa = detik % 60\n",
        "print(\"{}:{}\".format(menit, sisa))"
      ],
      "metadata": {
        "colab": {
          "base_uri": "https://localhost:8080/"
        },
        "id": "TBshs8fSM6C3",
        "outputId": "9a3b396a-b8e0-4c38-b94e-01f94d30f950"
      },
      "execution_count": null,
      "outputs": [
        {
          "output_type": "stream",
          "name": "stdout",
          "text": [
            "30:0\n"
          ]
        }
      ]
    },
    {
      "cell_type": "code",
      "source": [
        "### Misalkan kita punya no_hp : 08123456789\n",
        "# Buatlah sebuah program sederhana yang akan anonymize nilai di tengahnya mulai dari urutan ke 5 - 8\n",
        "\n",
        "# 0812****789\n",
        "\n",
        "no_hp = \"08123456789\"\n",
        "\n",
        "awal = no_hp[:4]\n",
        "akhir = no_hp[7:]\n",
        "\n",
        "print(\"{}****{}\".format(awal, akhir))"
      ],
      "metadata": {
        "colab": {
          "base_uri": "https://localhost:8080/"
        },
        "id": "3LZMeaqOO8i8",
        "outputId": "a0de9b59-583c-41d8-81f2-3ed211375fd5"
      },
      "execution_count": null,
      "outputs": [
        {
          "output_type": "stream",
          "name": "stdout",
          "text": [
            "0812****6789\n"
          ]
        }
      ]
    },
    {
      "cell_type": "markdown",
      "source": [
        "# Dictionary"
      ],
      "metadata": {
        "id": "JwPweVi4TRUw"
      }
    },
    {
      "cell_type": "code",
      "source": [
        "# Terdiri dari Key and Value\n",
        "\n",
        "employee = {}\n",
        "\n",
        "employee = {\n",
        "    \"Nama\": [\"Donny\", \"Duta\", \"Aryo\"],\n",
        "    \"Pekerjaan\": [\"Data Science Manager\", \"Senior Data Engineer\", \"Data Analyst\"],\n",
        "}"
      ],
      "metadata": {
        "id": "Sy2Wlsw8POb3"
      },
      "execution_count": null,
      "outputs": []
    },
    {
      "cell_type": "code",
      "source": [
        "employee[\"Usia\"] = [28, 26, 24]\n",
        "print(employee)"
      ],
      "metadata": {
        "colab": {
          "base_uri": "https://localhost:8080/"
        },
        "id": "uHzdFXfbTpPv",
        "outputId": "7800256d-574f-4d59-93cd-c5b2508a45bf"
      },
      "execution_count": null,
      "outputs": [
        {
          "output_type": "stream",
          "name": "stdout",
          "text": [
            "{'Nama': ['Donny', 'Duta', 'Aryo'], 'Pekerjaan': ['Data Science Manager', 'Senior Data Engineer', 'Data Analyst'], 'Usia': [28, 26, 24]}\n"
          ]
        }
      ]
    },
    {
      "cell_type": "code",
      "source": [
        "employee.keys()"
      ],
      "metadata": {
        "colab": {
          "base_uri": "https://localhost:8080/"
        },
        "id": "-Vm3l0epTyzw",
        "outputId": "fd457180-b5cc-4d86-dec4-0d5bc05108a8"
      },
      "execution_count": null,
      "outputs": [
        {
          "output_type": "execute_result",
          "data": {
            "text/plain": [
              "dict_keys(['Nama', 'Pekerjaan', 'Usia'])"
            ]
          },
          "metadata": {},
          "execution_count": 26
        }
      ]
    },
    {
      "cell_type": "code",
      "source": [
        "employee.values()"
      ],
      "metadata": {
        "colab": {
          "base_uri": "https://localhost:8080/"
        },
        "id": "KjTarORuT48d",
        "outputId": "3f9f11a1-4c3a-4ad9-abf2-7f8c5b96763a"
      },
      "execution_count": null,
      "outputs": [
        {
          "output_type": "execute_result",
          "data": {
            "text/plain": [
              "dict_values([['Donny', 'Duta', 'Aryo'], ['Data Science Manager', 'Senior Data Engineer', 'Data Analyst'], [28, 26, 24]])"
            ]
          },
          "metadata": {},
          "execution_count": 27
        }
      ]
    },
    {
      "cell_type": "code",
      "source": [
        "employee[\"Usia\"][0]"
      ],
      "metadata": {
        "colab": {
          "base_uri": "https://localhost:8080/"
        },
        "id": "QLfRIDmtT7Vw",
        "outputId": "b441306f-e0dc-4f6a-d4c9-066dde43ebfa"
      },
      "execution_count": null,
      "outputs": [
        {
          "output_type": "execute_result",
          "data": {
            "text/plain": [
              "28"
            ]
          },
          "metadata": {},
          "execution_count": 28
        }
      ]
    },
    {
      "cell_type": "code",
      "source": [
        "employee[\"Gaji\"] = [\"20\", \"15\", \"9\"]\n",
        "print(employee)"
      ],
      "metadata": {
        "colab": {
          "base_uri": "https://localhost:8080/"
        },
        "id": "e3NKeYS0VDOi",
        "outputId": "187d28f7-5792-4ff0-839c-f002ff5874f9"
      },
      "execution_count": null,
      "outputs": [
        {
          "output_type": "stream",
          "name": "stdout",
          "text": [
            "{'Nama': ['Donny', 'Duta', 'Aryo'], 'Pekerjaan': ['Data Science Manager', 'Senior Data Engineer', 'Data Analyst'], 'Usia': [28, 26, 24], 'Gaji': ['20', '15', '9']}\n"
          ]
        }
      ]
    },
    {
      "cell_type": "code",
      "source": [
        "# Conditional\n",
        "\n",
        "# Kasus Pembayaran di E-Commerce\n",
        "# Jika saldo kurang dari harga maka beritahu pelanggan bahwa saldo kurang harap di top up dulu\n",
        "# Jika saldo lebih dari sama dengan harga maka teruskan transaksi ke penjual\n",
        "\n",
        "saldo = 1200000\n",
        "harga_barang = 12000000\n",
        "\n",
        "if saldo < harga_barang: # Boolean --> jika statement True maka scope code akan dijalankan\n",
        "  # Indentation --> scope codingan\n",
        "  print(\"Saldo kurang, harap top up atau ganti metode pembayaran\")\n",
        "  print(\"Menunggu konfirmasi pelanggan\")\n",
        "else : # Jika statement diatas False maka scope code dibawah akan dijalankan\n",
        "  print(\"Terima kasih, Proses dilanjutkan ke penjual\")\n",
        "  print(\"Ditunggu pesanan selanjutnya\")"
      ],
      "metadata": {
        "colab": {
          "base_uri": "https://localhost:8080/"
        },
        "id": "J7A_sihHUI4w",
        "outputId": "622b5a56-9335-4251-b428-81b60df11792"
      },
      "execution_count": null,
      "outputs": [
        {
          "output_type": "stream",
          "name": "stdout",
          "text": [
            "Saldo kurang, harap top up atau ganti metode pembayaran\n",
            "Menunggu konfirmasi pelanggan\n"
          ]
        }
      ]
    },
    {
      "cell_type": "code",
      "source": [
        "saldo < harga_barang"
      ],
      "metadata": {
        "colab": {
          "base_uri": "https://localhost:8080/"
        },
        "id": "e1Jam4UAWX3r",
        "outputId": "8ebec071-0cba-4db4-d8ee-7ec0e14d8154"
      },
      "execution_count": null,
      "outputs": [
        {
          "output_type": "execute_result",
          "data": {
            "text/plain": [
              "True"
            ]
          },
          "metadata": {},
          "execution_count": 31
        }
      ]
    },
    {
      "cell_type": "code",
      "source": [
        "# Logika Matematika\n",
        "\n",
        "# And --> Hanya akan True jika semuanya True\n",
        "print((saldo < harga_barang) and (3 < 9) and (2 < 9))\n",
        "\n",
        "# OR --> Hanya akan False jika semuanya False\n",
        "print((saldo < harga_barang) or (3 >9) or (2 < 9))"
      ],
      "metadata": {
        "colab": {
          "base_uri": "https://localhost:8080/"
        },
        "id": "2VunIzceXa7E",
        "outputId": "acc01b09-c657-4d73-cd33-077dc41d941f"
      },
      "execution_count": null,
      "outputs": [
        {
          "output_type": "stream",
          "name": "stdout",
          "text": [
            "True\n",
            "True\n"
          ]
        }
      ]
    },
    {
      "cell_type": "code",
      "source": [
        "isMarried = False\n",
        "print(((saldo < harga_barang) or (3 >9) or (2 < 9)) and (isMarried))"
      ],
      "metadata": {
        "colab": {
          "base_uri": "https://localhost:8080/"
        },
        "id": "xVcPr5EkYFRk",
        "outputId": "13c0a870-c8e2-4579-a7ac-d90e979f0938"
      },
      "execution_count": null,
      "outputs": [
        {
          "output_type": "stream",
          "name": "stdout",
          "text": [
            "False\n"
          ]
        }
      ]
    },
    {
      "cell_type": "code",
      "source": [
        "# Balita = 0 - 5\n",
        "# anak = 6 - 15\n",
        "# Remaja = 16 - 21\n",
        "# Dewasa = 22 - 59\n",
        "# Lansia = 60++\n",
        "\n",
        "usia = int(input(\"Masukkan usia anda : \"))\n",
        "\n",
        "if usia >=0 and usia <=5 :\n",
        "  print(\"Balita\")\n",
        "elif usia >=6 and usia <=15 :\n",
        "  print(\"Anak-anak\")\n",
        "elif usia >=16 and usia <=21:\n",
        "  print(\"Remaja\")\n",
        "elif usia>=22 and usia <=59:\n",
        "  print(\"Dewasa\")\n",
        "else:\n",
        "  print(\"Lansia\")"
      ],
      "metadata": {
        "colab": {
          "base_uri": "https://localhost:8080/"
        },
        "id": "W5Jvym_KZ5Nw",
        "outputId": "a7b23bd8-58b3-414c-ad83-49e32d64ec82"
      },
      "execution_count": null,
      "outputs": [
        {
          "output_type": "stream",
          "name": "stdout",
          "text": [
            "Masukkan usia anda : 24\n",
            "Dewasa\n"
          ]
        }
      ]
    },
    {
      "cell_type": "code",
      "source": [
        "# Nested IF --> IF dalam IF\n",
        "\n",
        "usia = round(float(input(\"Masukkan usia anda : \")))\n",
        "\n",
        "if usia >= 0 and usia <= 100:\n",
        "  if usia >=0 and usia <=5 :\n",
        "    print(\"Balita\")\n",
        "  elif usia >=6 and usia <=15 :\n",
        "    print(\"Anak-anak\")\n",
        "  elif usia >=16 and usia <=21:\n",
        "    print(\"Remaja\")\n",
        "  elif usia>=22 and usia <=59:\n",
        "    print(\"Dewasa\")\n",
        "  else:\n",
        "    print(\"Lansia\")\n",
        "else:\n",
        "  print(\"Terjadi kesalahan data\")"
      ],
      "metadata": {
        "colab": {
          "base_uri": "https://localhost:8080/"
        },
        "id": "3C8WyGeRZ5LY",
        "outputId": "380f6f78-be90-4447-a27a-a8903bb2a32c"
      },
      "execution_count": null,
      "outputs": [
        {
          "output_type": "stream",
          "name": "stdout",
          "text": [
            "Masukkan usia anda : 24\n",
            "Dewasa\n"
          ]
        }
      ]
    },
    {
      "cell_type": "code",
      "source": [
        "# Exception Handling --> Jika ada error maka code akan dialihkan\n",
        "\n",
        "try:\n",
        "  usia = round(float(input(\"Masukkan usia anda : \")))\n",
        "  print(usia)\n",
        "except:\n",
        "  print(\"Terjadi Error coba cek inputan anda\")\n",
        "finally:\n",
        "  print(\"Terima kasih sudah menggunakan aplikasi kamu\")"
      ],
      "metadata": {
        "colab": {
          "base_uri": "https://localhost:8080/"
        },
        "id": "IN8DmHY-Z5JM",
        "outputId": "9058ea5a-1914-4bd2-980e-d111afdee4cc"
      },
      "execution_count": null,
      "outputs": [
        {
          "output_type": "stream",
          "name": "stdout",
          "text": [
            "Masukkan usia anda : 24\n",
            "24\n",
            "Terima kasih sudah menggunakan aplikasi kamu\n"
          ]
        }
      ]
    },
    {
      "cell_type": "code",
      "source": [
        "# Looping / Pengulangan\n",
        "for i in range(10):\n",
        "  print(\"{}. Saya belajar Data Science\".format(i+1))"
      ],
      "metadata": {
        "colab": {
          "base_uri": "https://localhost:8080/"
        },
        "id": "41z-x5peZ5HL",
        "outputId": "123b244f-204c-4199-d534-c3c6a4f63777"
      },
      "execution_count": null,
      "outputs": [
        {
          "output_type": "stream",
          "name": "stdout",
          "text": [
            "1. Saya belajar Data Science\n",
            "2. Saya belajar Data Science\n",
            "3. Saya belajar Data Science\n",
            "4. Saya belajar Data Science\n",
            "5. Saya belajar Data Science\n",
            "6. Saya belajar Data Science\n",
            "7. Saya belajar Data Science\n",
            "8. Saya belajar Data Science\n",
            "9. Saya belajar Data Science\n",
            "10. Saya belajar Data Science\n"
          ]
        }
      ]
    },
    {
      "cell_type": "code",
      "source": [
        "for i in range(1, 16):\n",
        "  if i % 2 == 0:\n",
        "    print(\"{} adalah Genap\".format(i))\n",
        "  else:\n",
        "    print(\"{} adalah Ganjil\".format(i))"
      ],
      "metadata": {
        "colab": {
          "base_uri": "https://localhost:8080/"
        },
        "id": "s8iTqPfQZyFo",
        "outputId": "0290056c-61c0-477a-e349-132eb1b456d7"
      },
      "execution_count": null,
      "outputs": [
        {
          "output_type": "stream",
          "name": "stdout",
          "text": [
            "1 adalah Ganjil\n",
            "2 adalah Genap\n",
            "3 adalah Ganjil\n",
            "4 adalah Genap\n",
            "5 adalah Ganjil\n",
            "6 adalah Genap\n",
            "7 adalah Ganjil\n",
            "8 adalah Genap\n",
            "9 adalah Ganjil\n",
            "10 adalah Genap\n",
            "11 adalah Ganjil\n",
            "12 adalah Genap\n",
            "13 adalah Ganjil\n",
            "14 adalah Genap\n",
            "15 adalah Ganjil\n"
          ]
        }
      ]
    },
    {
      "cell_type": "code",
      "source": [
        "for i in minuman:\n",
        "  print(i)"
      ],
      "metadata": {
        "colab": {
          "base_uri": "https://localhost:8080/"
        },
        "id": "FeVMcXLXgiu2",
        "outputId": "79134130-ec7b-4949-b7b8-063ece065213"
      },
      "execution_count": null,
      "outputs": [
        {
          "output_type": "stream",
          "name": "stdout",
          "text": [
            "Hot Chocolate\n",
            "Hot Tea\n",
            "Americano\n",
            "Black Coffee\n"
          ]
        }
      ]
    },
    {
      "cell_type": "code",
      "source": [
        "n = 10\n",
        "for i in range(1, n+1):\n",
        "  print(\"*\"*i)"
      ],
      "metadata": {
        "colab": {
          "base_uri": "https://localhost:8080/"
        },
        "id": "E05dmOdFhGac",
        "outputId": "361eb96c-3bc7-42de-d348-5d090a4f545e"
      },
      "execution_count": null,
      "outputs": [
        {
          "output_type": "stream",
          "name": "stdout",
          "text": [
            "*\n",
            "**\n",
            "***\n",
            "****\n",
            "*****\n",
            "******\n",
            "*******\n",
            "********\n",
            "*********\n",
            "**********\n"
          ]
        }
      ]
    },
    {
      "cell_type": "code",
      "source": [
        "# Nested For\n",
        "for l in matrix:\n",
        "  # print(l)\n",
        "  for element in l:\n",
        "    print(element)\n",
        "  print()"
      ],
      "metadata": {
        "colab": {
          "base_uri": "https://localhost:8080/"
        },
        "id": "Qpnom44jhzI7",
        "outputId": "cf94b2cc-9649-4a09-826f-153c688a4f5c"
      },
      "execution_count": null,
      "outputs": [
        {
          "output_type": "stream",
          "name": "stdout",
          "text": [
            "1\n",
            "2\n",
            "3\n",
            "\n",
            "4\n",
            "5\n",
            "6\n",
            "\n",
            "7\n",
            "8\n",
            "9\n",
            "\n"
          ]
        }
      ]
    },
    {
      "cell_type": "markdown",
      "source": [
        "# Function\n",
        "Code yang bisa dipanggil berulang kali\n",
        "\n",
        "Fungsi Bawaan dari Bahasa Pemrograman\n",
        "\n",
        "UDF --> USer Defined Function"
      ],
      "metadata": {
        "id": "4S0hUMwJjM3W"
      }
    },
    {
      "cell_type": "code",
      "source": [
        "def pythagoras(a, b):\n",
        "  return (a**2 + b**2) ** 0.5"
      ],
      "metadata": {
        "id": "Ot6k17IfiIkN"
      },
      "execution_count": null,
      "outputs": []
    },
    {
      "cell_type": "code",
      "source": [
        "pythagoras(3,4)"
      ],
      "metadata": {
        "colab": {
          "base_uri": "https://localhost:8080/"
        },
        "id": "6eePF5NZjyOM",
        "outputId": "cdeaf32f-ada8-4a53-d51c-a699299754ab"
      },
      "execution_count": null,
      "outputs": [
        {
          "output_type": "execute_result",
          "data": {
            "text/plain": [
              "5.0"
            ]
          },
          "metadata": {},
          "execution_count": 43
        }
      ]
    },
    {
      "cell_type": "code",
      "source": [
        "pythagoras(15, 20)"
      ],
      "metadata": {
        "colab": {
          "base_uri": "https://localhost:8080/"
        },
        "id": "FB6rWMAkj1PS",
        "outputId": "9d33fbf7-25a7-4287-a51f-1c1bcf43a195"
      },
      "execution_count": null,
      "outputs": [
        {
          "output_type": "execute_result",
          "data": {
            "text/plain": [
              "25.0"
            ]
          },
          "metadata": {},
          "execution_count": 44
        }
      ]
    },
    {
      "cell_type": "code",
      "source": [
        "def konversi_waktu(detik=60):\n",
        "  menit = detik // 60\n",
        "  sisa = detik % 60\n",
        "\n",
        "  return \"{}:{}\".format(menit, sisa)"
      ],
      "metadata": {
        "id": "6L3nR2tWj6lW"
      },
      "execution_count": null,
      "outputs": []
    },
    {
      "cell_type": "code",
      "source": [
        "konversi_waktu(610)"
      ],
      "metadata": {
        "colab": {
          "base_uri": "https://localhost:8080/",
          "height": 35
        },
        "id": "ykWgJMtZkK-o",
        "outputId": "f442c455-8e54-40ae-9e94-e826e7393b70"
      },
      "execution_count": null,
      "outputs": [
        {
          "output_type": "execute_result",
          "data": {
            "text/plain": [
              "'10:10'"
            ],
            "application/vnd.google.colaboratory.intrinsic+json": {
              "type": "string"
            }
          },
          "metadata": {},
          "execution_count": 46
        }
      ]
    },
    {
      "cell_type": "code",
      "source": [
        "konversi_waktu(1800)"
      ],
      "metadata": {
        "colab": {
          "base_uri": "https://localhost:8080/",
          "height": 35
        },
        "id": "H2J1IjyKkMz1",
        "outputId": "81d23da9-12c3-4e7b-9f58-71eec1141ec7"
      },
      "execution_count": null,
      "outputs": [
        {
          "output_type": "execute_result",
          "data": {
            "text/plain": [
              "'30:0'"
            ],
            "application/vnd.google.colaboratory.intrinsic+json": {
              "type": "string"
            }
          },
          "metadata": {},
          "execution_count": 47
        }
      ]
    },
    {
      "cell_type": "code",
      "source": [
        "konversi_waktu()"
      ],
      "metadata": {
        "colab": {
          "base_uri": "https://localhost:8080/",
          "height": 35
        },
        "id": "06ddzsDhkjLn",
        "outputId": "0ced72ab-042c-48da-e422-067ec8cdffe4"
      },
      "execution_count": null,
      "outputs": [
        {
          "output_type": "execute_result",
          "data": {
            "text/plain": [
              "'1:0'"
            ],
            "application/vnd.google.colaboratory.intrinsic+json": {
              "type": "string"
            }
          },
          "metadata": {},
          "execution_count": 48
        }
      ]
    },
    {
      "cell_type": "markdown",
      "source": [
        "# Latihan"
      ],
      "metadata": {
        "id": "kGQb6YIr1BRN"
      }
    },
    {
      "cell_type": "code",
      "source": [
        "# Buatlah sebuah function untuk tips jika price < $100 maka tip adalah 17% jika melebihi maka\n",
        "# tip adalah 20% --> misalkan jika price $100 maka akan menjadi $120\n",
        "\n",
        "def tipping(price):\n",
        "  if price < 100:\n",
        "    total = price + price *0.17\n",
        "  else :\n",
        "    total = price + price * 0.2\n",
        "  return total\n",
        "\n",
        "tipping(80)\n",
        "\n",
        "# Buatlah sebuah function untuk volume dan luas permukaan cylinder tetapi dengan ketentuan\n",
        "# jika radius habis dibagi 7 maka phi = 22/7 jika tidak 3.14\n",
        "\n",
        "def cylinder(r, t):\n",
        "  if r % 7 == 0:\n",
        "    phi = 22/7\n",
        "  else:\n",
        "    phi = 3.14\n",
        "\n",
        "  volume = phi * r ** 2* t\n",
        "  luas_permukaan = 2*phi*r**2 + 2*phi*r*t\n",
        "  return [volume, luas_permukaan]\n",
        "\n",
        "cylinder(14, 20)\n",
        "\n",
        "# Buatlah sebuah function untuk menhitung fahrenheit ke kelvin (suhu)\n",
        "def temperature(fahr):\n",
        "  c = (fahr - 32) * 5 / 9\n",
        "  k = c + 273.15\n",
        "  return k\n",
        "\n",
        "temperature(100)"
      ],
      "metadata": {
        "colab": {
          "base_uri": "https://localhost:8080/"
        },
        "id": "NoVsLWqhl3Zc",
        "outputId": "7e804fcc-95a7-4695-b77b-9693da7c05f6"
      },
      "execution_count": null,
      "outputs": [
        {
          "output_type": "execute_result",
          "data": {
            "text/plain": [
              "310.92777777777775"
            ]
          },
          "metadata": {},
          "execution_count": 54
        }
      ]
    },
    {
      "cell_type": "code",
      "source": [],
      "metadata": {
        "id": "oEiphTxw7HRH"
      },
      "execution_count": null,
      "outputs": []
    }
  ]
}