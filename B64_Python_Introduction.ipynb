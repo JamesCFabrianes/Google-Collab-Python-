{
  "nbformat": 4,
  "nbformat_minor": 0,
  "metadata": {
    "colab": {
      "provenance": [],
      "include_colab_link": true
    },
    "kernelspec": {
      "name": "python3",
      "display_name": "Python 3"
    },
    "language_info": {
      "name": "python"
    }
  },
  "cells": [
    {
      "cell_type": "markdown",
      "metadata": {
        "id": "view-in-github",
        "colab_type": "text"
      },
      "source": [
        "<a href=\"https://colab.research.google.com/github/JamesCFabrianes/Google-Collab-Python-/blob/main/B64_Python_Introduction.ipynb\" target=\"_parent\"><img src=\"https://colab.research.google.com/assets/colab-badge.svg\" alt=\"Open In Colab\"/></a>"
      ]
    },
    {
      "cell_type": "code",
      "execution_count": null,
      "metadata": {
        "colab": {
          "base_uri": "https://localhost:8080/"
        },
        "id": "6IHMa8kSTrgr",
        "outputId": "94bddc96-4100-4957-9db4-52938190d9ba"
      },
      "outputs": [
        {
          "output_type": "stream",
          "name": "stdout",
          "text": [
            "Hello World\n"
          ]
        }
      ],
      "source": [
        "print(\"Hello World\")"
      ]
    },
    {
      "cell_type": "code",
      "source": [
        "# Print --> menampilkan sesuatu ke layar -- COMMENT\n",
        "# Input -> Process -> Output\n",
        "\n",
        "print(\"Python Introduction\")"
      ],
      "metadata": {
        "colab": {
          "base_uri": "https://localhost:8080/"
        },
        "id": "xV8BlOrcUk7s",
        "outputId": "d5fe2df4-3835-457e-ac0f-d386574e1506"
      },
      "execution_count": null,
      "outputs": [
        {
          "output_type": "stream",
          "name": "stdout",
          "text": [
            "Python Introduction\n"
          ]
        }
      ]
    },
    {
      "cell_type": "code",
      "source": [
        "# Variable --> Penampung nilai\n",
        "# int -> integer (bilangan bulat)\n",
        "# float -> bilangan desimal\n",
        "# bool / boolean -> nilai kebenaran (True / False)\n",
        "\n",
        "#int\n",
        "usia = 24 # Variable dengan nama usia\n",
        "\n",
        "#float\n",
        "suhu = 32.7\n",
        "\n",
        "# boolean\n",
        "isMarried = True\n",
        "isStudent = False"
      ],
      "metadata": {
        "id": "QQswqIf3U6Fh"
      },
      "execution_count": null,
      "outputs": []
    },
    {
      "cell_type": "code",
      "source": [
        "print(usia)"
      ],
      "metadata": {
        "colab": {
          "base_uri": "https://localhost:8080/"
        },
        "id": "U5moG_3rVkxd",
        "outputId": "bc686016-fc6c-4a0c-d5b2-7d80d5b8b5da"
      },
      "execution_count": null,
      "outputs": [
        {
          "output_type": "stream",
          "name": "stdout",
          "text": [
            "24\n"
          ]
        }
      ]
    },
    {
      "cell_type": "code",
      "source": [
        "type(suhu), type(isMarried), type(usia)"
      ],
      "metadata": {
        "colab": {
          "base_uri": "https://localhost:8080/"
        },
        "id": "wJLBBNUeVniR",
        "outputId": "9af31d1c-a49f-4430-a16a-1bba78790a3d"
      },
      "execution_count": null,
      "outputs": [
        {
          "output_type": "execute_result",
          "data": {
            "text/plain": [
              "(float, bool, int)"
            ]
          },
          "metadata": {},
          "execution_count": 14
        }
      ]
    },
    {
      "cell_type": "code",
      "source": [
        "# Aritmatika di Python\n",
        "\n",
        "angka1 = 10\n",
        "angka2 = 3\n",
        "penjumlahan = angka1 + angka2\n",
        "print(\"Penambahan {} dan {} adalah {}\".format(angka1, angka2, penjumlahan))\n",
        "print(\"Pengurangan {} dan {} adalah {}\".format(angka1, angka2, angka1-angka2))\n",
        "print(\"Perkalian {} dan {} adalah {}\".format(angka1, angka2, angka1*angka2))\n",
        "print(\"Perpangkatan {} dan {} adalah {}\".format(angka1, angka2, angka1**angka2))\n",
        "print(\"Pembagian {} dan {} adalah {}\".format(angka1, angka2, angka1/angka2)) # pembagian nonbulat\n",
        "print(\"Pembagian {} dan {} adalah {}\".format(angka1, angka2, angka1//angka2)) #pembagian bulat\n",
        "print(\"Sisa Bagi {} dan {} adalah {}\".format(angka1, angka2, angka1%angka2)) #Modulo"
      ],
      "metadata": {
        "colab": {
          "base_uri": "https://localhost:8080/"
        },
        "id": "WqpQFq_qXHPe",
        "outputId": "2fd677bf-c299-4d09-b290-3f1a73c10ba0"
      },
      "execution_count": null,
      "outputs": [
        {
          "output_type": "stream",
          "name": "stdout",
          "text": [
            "Penambahan 10 dan 3 adalah 13\n",
            "Pengurangan 10 dan 3 adalah 7\n",
            "Perkalian 10 dan 3 adalah 30\n",
            "Perpangkatan 10 dan 3 adalah 1000\n",
            "Pembagian 10 dan 3 adalah 3.3333333333333335\n",
            "Pembagian 10 dan 3 adalah 3\n",
            "Sisa Bagi 10 dan 3 adalah 1\n"
          ]
        }
      ]
    },
    {
      "cell_type": "code",
      "source": [
        "# Soal Latihan\n",
        "\n",
        "# buatlah variable phi, radius, dan tinggi kemudian lakukan perhitungan Luas permukaan tabung\n",
        "# dan volumenya\n",
        "# buatlah variable a, b, dan c kemudian hitunglah nilai pythagoras pada sisi c"
      ],
      "metadata": {
        "id": "-Y6KpVwJX7XG"
      },
      "execution_count": null,
      "outputs": []
    },
    {
      "cell_type": "code",
      "source": [
        "16**0.5"
      ],
      "metadata": {
        "colab": {
          "base_uri": "https://localhost:8080/"
        },
        "id": "q3UGADMaae5y",
        "outputId": "b2b12d4d-a598-4a6d-a923-2e78bfa65a2b"
      },
      "execution_count": null,
      "outputs": [
        {
          "output_type": "execute_result",
          "data": {
            "text/plain": [
              "4.0"
            ]
          },
          "metadata": {},
          "execution_count": 21
        }
      ]
    },
    {
      "cell_type": "code",
      "source": [],
      "metadata": {
        "id": "FeBl1rddagjW"
      },
      "execution_count": null,
      "outputs": []
    }
  ]
}